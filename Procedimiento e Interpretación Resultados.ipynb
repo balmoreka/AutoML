{
 "cells": [
  {
   "cell_type": "markdown",
   "id": "7aef52ae-7ced-4a84-8881-24cba7589da1",
   "metadata": {},
   "source": [
    "# Proceso para entrenar el modelo"
   ]
  },
  {
   "cell_type": "markdown",
   "id": "cb4ace8a-751e-4b14-b57d-9a040b52be14",
   "metadata": {},
   "source": [
    "<ol>\n",
    "    <li>En params.yaml se debe colocar el nombre del dataset a entrenar en el parametro <strong>dataset.name</strong> Dicho dataset debe estar alojado en el directorio dataset en formato csv y la columna a predecir se debe llamar 'target'. Todas las demas columnas serán consideradas como features.\n",
    "    <li>Correr en consola: <strong>dvc repro</strong> Se entrenaran varios modelos con los parametros especificos de params.yaml. El script guardara el mejor modelo (champion) de todos los entrenados.\n",
    "        <br>Para regresion se entrenan ridge, lasso, svm, random_forest.\n",
    "        <br>Para clasificacion se entrenan random_forest, xgboost, svm\n",
    "    <li>Correr multiples experimientos utilizando el comando:\n",
    "        <br><strong>dvc exp run -S parametro1=a -S parametro2=b</strong>\n",
    "        <br>eg. dvc exp run -S train.test.size=0.1 -S train.cv_folds=10\n",
    "        <br>Los parametros del modelo que se pueden ajustar son:\n",
    "        <ul>\n",
    "            <li>test_size\n",
    "            <li>cv_folfs\n",
    "            <li>metric_cls [accuracy, precision, f1]\n",
    "            <li>metric_reg [rmse, r2, mape]\n",
    "            <li>n_trials (para optuna)\n",
    "        </ul>\n",
    "    <li>Para pasar a un csv los resultados de los experimentos ejecutar:\n",
    "        <br><strong>dvc exp show --only-changed --drop 'data|model|params' --csv > results.csv </strong>\n",
    "    <li>Concluir la mejor version de modelo y dejar esa versión subida en el repositorio"
   ]
  },
  {
   "cell_type": "markdown",
   "id": "46fdea4e-ee51-4d6e-92be-a50f3f759b72",
   "metadata": {},
   "source": [
    "# Resultados\n",
    "Tomaremos solo un dataset para realizar la interpretacion de los resultados.\n",
    "<br>El dataset wine_cls.csv"
   ]
  },
  {
   "cell_type": "markdown",
   "id": "a594107e-a709-4fc9-81da-239eb3deb835",
   "metadata": {},
   "source": [
    "- Los modelos entrenados son guardados en models/trained_models/\n",
    "- El mejor modelo es guardado en models/ en formato pkl para que pueda ser utilizado\n",
    "- Los parametros del mejor modelo se guardan en /models/parameters.csv\n",
    "<br> A manera de ejemplo se muestran los parametros del ultimo modelo entrenado"
   ]
  },
  {
   "cell_type": "code",
   "execution_count": 11,
   "id": "26100fec-8f41-4578-abff-e3bf5153a033",
   "metadata": {},
   "outputs": [
    {
     "data": {
      "text/html": [
       "<div>\n",
       "<style scoped>\n",
       "    .dataframe tbody tr th:only-of-type {\n",
       "        vertical-align: middle;\n",
       "    }\n",
       "\n",
       "    .dataframe tbody tr th {\n",
       "        vertical-align: top;\n",
       "    }\n",
       "\n",
       "    .dataframe thead th {\n",
       "        text-align: right;\n",
       "    }\n",
       "</style>\n",
       "<table border=\"1\" class=\"dataframe\">\n",
       "  <thead>\n",
       "    <tr style=\"text-align: right;\">\n",
       "      <th></th>\n",
       "      <th>Unnamed: 0</th>\n",
       "      <th>Value</th>\n",
       "    </tr>\n",
       "  </thead>\n",
       "  <tbody>\n",
       "    <tr>\n",
       "      <th>0</th>\n",
       "      <td>bootstrap</td>\n",
       "      <td>True</td>\n",
       "    </tr>\n",
       "    <tr>\n",
       "      <th>1</th>\n",
       "      <td>ccp_alpha</td>\n",
       "      <td>0.0</td>\n",
       "    </tr>\n",
       "    <tr>\n",
       "      <th>2</th>\n",
       "      <td>class_weight</td>\n",
       "      <td>NaN</td>\n",
       "    </tr>\n",
       "    <tr>\n",
       "      <th>3</th>\n",
       "      <td>criterion</td>\n",
       "      <td>gini</td>\n",
       "    </tr>\n",
       "    <tr>\n",
       "      <th>4</th>\n",
       "      <td>max_depth</td>\n",
       "      <td>140</td>\n",
       "    </tr>\n",
       "  </tbody>\n",
       "</table>\n",
       "</div>"
      ],
      "text/plain": [
       "     Unnamed: 0 Value\n",
       "0     bootstrap  True\n",
       "1     ccp_alpha   0.0\n",
       "2  class_weight   NaN\n",
       "3     criterion  gini\n",
       "4     max_depth   140"
      ]
     },
     "execution_count": 11,
     "metadata": {},
     "output_type": "execute_result"
    }
   ],
   "source": [
    "import pandas as pd\n",
    "pd.read_csv('models/parameters.csv').head()"
   ]
  },
  {
   "cell_type": "markdown",
   "id": "6b98d8ef-4b98-45e1-81ce-6ad56664038c",
   "metadata": {},
   "source": [
    "Las metricas son guardadas en un json."
   ]
  },
  {
   "cell_type": "code",
   "execution_count": 12,
   "id": "8c9b740f-d67a-4db3-9e7b-b97bab8db3bc",
   "metadata": {},
   "outputs": [
    {
     "name": "stdout",
     "output_type": "stream",
     "text": [
      "{'accuracy': 1.0, 'f1': 1.0}\n"
     ]
    }
   ],
   "source": [
    "import json\n",
    "\n",
    "with open('metrics.json', 'r') as file:\n",
    "    data = json.load(file)\n",
    "\n",
    "print(data)"
   ]
  },
  {
   "cell_type": "markdown",
   "id": "0d004795-69e8-4729-adea-c201cf1acfa9",
   "metadata": {},
   "source": [
    "Los resultados de todos los experimentos se pueden visualizar en:"
   ]
  },
  {
   "cell_type": "code",
   "execution_count": 14,
   "id": "c3932d40-d88f-4bb3-ac85-07434b530e76",
   "metadata": {},
   "outputs": [
    {
     "data": {
      "text/html": [
       "<div>\n",
       "<style scoped>\n",
       "    .dataframe tbody tr th:only-of-type {\n",
       "        vertical-align: middle;\n",
       "    }\n",
       "\n",
       "    .dataframe tbody tr th {\n",
       "        vertical-align: top;\n",
       "    }\n",
       "\n",
       "    .dataframe thead th {\n",
       "        text-align: right;\n",
       "    }\n",
       "</style>\n",
       "<table border=\"1\" class=\"dataframe\">\n",
       "  <thead>\n",
       "    <tr style=\"text-align: right;\">\n",
       "      <th></th>\n",
       "      <th>Experiment</th>\n",
       "      <th>rev</th>\n",
       "      <th>typ</th>\n",
       "      <th>Created</th>\n",
       "      <th>accuracy</th>\n",
       "      <th>f1</th>\n",
       "      <th>train.test_size</th>\n",
       "      <th>train.metric_cls</th>\n",
       "      <th>train.n_trials</th>\n",
       "    </tr>\n",
       "  </thead>\n",
       "  <tbody>\n",
       "    <tr>\n",
       "      <th>0</th>\n",
       "      <td>NaN</td>\n",
       "      <td>workspace</td>\n",
       "      <td>baseline</td>\n",
       "      <td>NaN</td>\n",
       "      <td>1.0</td>\n",
       "      <td>1.0</td>\n",
       "      <td>0.3</td>\n",
       "      <td>f1</td>\n",
       "      <td>5</td>\n",
       "    </tr>\n",
       "    <tr>\n",
       "      <th>1</th>\n",
       "      <td>NaN</td>\n",
       "      <td>main</td>\n",
       "      <td>baseline</td>\n",
       "      <td>2024-11-02T18:39:56</td>\n",
       "      <td>!</td>\n",
       "      <td>!</td>\n",
       "      <td>0.4</td>\n",
       "      <td>accuracy</td>\n",
       "      <td>12</td>\n",
       "    </tr>\n",
       "    <tr>\n",
       "      <th>2</th>\n",
       "      <td>uncut-zoea</td>\n",
       "      <td>82ec71a</td>\n",
       "      <td>branch_commit</td>\n",
       "      <td>2024-11-02T20:16:40</td>\n",
       "      <td>1.0</td>\n",
       "      <td>1.0</td>\n",
       "      <td>0.3</td>\n",
       "      <td>f1</td>\n",
       "      <td>5</td>\n",
       "    </tr>\n",
       "    <tr>\n",
       "      <th>3</th>\n",
       "      <td>aroid-pein</td>\n",
       "      <td>bd28b6f</td>\n",
       "      <td>branch_commit</td>\n",
       "      <td>2024-11-02T20:15:21</td>\n",
       "      <td>1.0</td>\n",
       "      <td>1.0</td>\n",
       "      <td>0.2</td>\n",
       "      <td>f1</td>\n",
       "      <td>5</td>\n",
       "    </tr>\n",
       "    <tr>\n",
       "      <th>4</th>\n",
       "      <td>tubal-cyma</td>\n",
       "      <td>9f65ec3</td>\n",
       "      <td>branch_commit</td>\n",
       "      <td>2024-11-02T20:13:42</td>\n",
       "      <td>1.0</td>\n",
       "      <td>1.0</td>\n",
       "      <td>0.2</td>\n",
       "      <td>accuracy</td>\n",
       "      <td>5</td>\n",
       "    </tr>\n",
       "    <tr>\n",
       "      <th>5</th>\n",
       "      <td>prosy-tamp</td>\n",
       "      <td>26298ea</td>\n",
       "      <td>branch_commit</td>\n",
       "      <td>2024-11-02T18:47:33</td>\n",
       "      <td>0.9912126537785588</td>\n",
       "      <td>0.99302649930265</td>\n",
       "      <td>0.4</td>\n",
       "      <td>accuracy</td>\n",
       "      <td>5</td>\n",
       "    </tr>\n",
       "    <tr>\n",
       "      <th>6</th>\n",
       "      <td>barky-pump</td>\n",
       "      <td>d647043</td>\n",
       "      <td>branch_commit</td>\n",
       "      <td>2024-11-02T18:43:46</td>\n",
       "      <td>0.9912126537785588</td>\n",
       "      <td>0.99302649930265</td>\n",
       "      <td>0.4</td>\n",
       "      <td>accuracy</td>\n",
       "      <td>20</td>\n",
       "    </tr>\n",
       "    <tr>\n",
       "      <th>7</th>\n",
       "      <td>alike-boar</td>\n",
       "      <td>8e16952</td>\n",
       "      <td>branch_base</td>\n",
       "      <td>2024-11-02T18:42:00</td>\n",
       "      <td>0.9912126537785588</td>\n",
       "      <td>0.99302649930265</td>\n",
       "      <td>0.4</td>\n",
       "      <td>accuracy</td>\n",
       "      <td>15</td>\n",
       "    </tr>\n",
       "  </tbody>\n",
       "</table>\n",
       "</div>"
      ],
      "text/plain": [
       "   Experiment        rev            typ              Created  \\\n",
       "0         NaN  workspace       baseline                  NaN   \n",
       "1         NaN       main       baseline  2024-11-02T18:39:56   \n",
       "2  uncut-zoea    82ec71a  branch_commit  2024-11-02T20:16:40   \n",
       "3  aroid-pein    bd28b6f  branch_commit  2024-11-02T20:15:21   \n",
       "4  tubal-cyma    9f65ec3  branch_commit  2024-11-02T20:13:42   \n",
       "5  prosy-tamp    26298ea  branch_commit  2024-11-02T18:47:33   \n",
       "6  barky-pump    d647043  branch_commit  2024-11-02T18:43:46   \n",
       "7  alike-boar    8e16952    branch_base  2024-11-02T18:42:00   \n",
       "\n",
       "             accuracy                f1  train.test_size train.metric_cls  \\\n",
       "0                 1.0               1.0              0.3               f1   \n",
       "1                   !                 !              0.4         accuracy   \n",
       "2                 1.0               1.0              0.3               f1   \n",
       "3                 1.0               1.0              0.2               f1   \n",
       "4                 1.0               1.0              0.2         accuracy   \n",
       "5  0.9912126537785588  0.99302649930265              0.4         accuracy   \n",
       "6  0.9912126537785588  0.99302649930265              0.4         accuracy   \n",
       "7  0.9912126537785588  0.99302649930265              0.4         accuracy   \n",
       "\n",
       "   train.n_trials  \n",
       "0               5  \n",
       "1              12  \n",
       "2               5  \n",
       "3               5  \n",
       "4               5  \n",
       "5               5  \n",
       "6              20  \n",
       "7              15  "
      ]
     },
     "execution_count": 14,
     "metadata": {},
     "output_type": "execute_result"
    }
   ],
   "source": [
    "pd.read_csv('results.csv')"
   ]
  },
  {
   "cell_type": "code",
   "execution_count": null,
   "id": "d882c793-4abb-4299-bea1-344364815a44",
   "metadata": {},
   "outputs": [],
   "source": []
  }
 ],
 "metadata": {
  "kernelspec": {
   "display_name": "Python 3 (ipykernel)",
   "language": "python",
   "name": "python3"
  },
  "language_info": {
   "codemirror_mode": {
    "name": "ipython",
    "version": 3
   },
   "file_extension": ".py",
   "mimetype": "text/x-python",
   "name": "python",
   "nbconvert_exporter": "python",
   "pygments_lexer": "ipython3",
   "version": "3.12.2"
  }
 },
 "nbformat": 4,
 "nbformat_minor": 5
}
